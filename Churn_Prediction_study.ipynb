{
 "cells": [
  {
   "cell_type": "code",
   "execution_count": null,
   "metadata": {},
   "outputs": [],
   "source": []
  },
  {
   "cell_type": "code",
   "execution_count": 124,
   "metadata": {},
   "outputs": [],
   "source": [
    "#Import Libraries :\n",
    "\n",
    "import pandas as pd\n",
    "import numpy as np \n",
    "import matplotlib.pyplot as plt \n",
    "from sklearn.model_selection import cross_val_score,GridSearchCV\n",
    "from sklearn.ensemble import RandomForestClassifier\n",
    "from sklearn.linear_model import LogisticRegression\n",
    "from sklearn.preprocessing import StandardScaler, OneHotEncoder , OrdinalEncoder\n",
    "from sklearn.feature_selection import RFE , SelectKBest , mutual_info_classif\n",
    "from sklearn.compose import make_column_transformer \n",
    "from sklearn.pipeline import Pipeline , make_pipeline\n",
    "from sklearn.metrics import mean_squared_error,silhouette_score , accuracy_score , f1_score , r2_score , recall_score , confusion_matrix\n",
    "import warnings"
   ]
  },
  {
   "cell_type": "code",
   "execution_count": 125,
   "metadata": {},
   "outputs": [
    {
     "data": {
      "text/html": [
       "<div>\n",
       "<style scoped>\n",
       "    .dataframe tbody tr th:only-of-type {\n",
       "        vertical-align: middle;\n",
       "    }\n",
       "\n",
       "    .dataframe tbody tr th {\n",
       "        vertical-align: top;\n",
       "    }\n",
       "\n",
       "    .dataframe thead th {\n",
       "        text-align: right;\n",
       "    }\n",
       "</style>\n",
       "<table border=\"1\" class=\"dataframe\">\n",
       "  <thead>\n",
       "    <tr style=\"text-align: right;\">\n",
       "      <th></th>\n",
       "      <th>Target Churn</th>\n",
       "      <th>Target Code</th>\n",
       "      <th>Current Bill Amt</th>\n",
       "      <th>Avg Calls</th>\n",
       "      <th>Avg Calls Weekdays</th>\n",
       "      <th>Account Age</th>\n",
       "      <th>Percent Increase MOM</th>\n",
       "      <th>Acct Plan Subtype</th>\n",
       "      <th>Complaint Code</th>\n",
       "      <th>Avg Days Delinquent</th>\n",
       "      <th>Current TechSupComplaints</th>\n",
       "      <th>Current Days OpenWorkOrders</th>\n",
       "      <th>Equipment Age</th>\n",
       "      <th>Condition of Current Handset</th>\n",
       "      <th>Avg Hours WorkOrderOpenned</th>\n",
       "    </tr>\n",
       "  </thead>\n",
       "  <tbody>\n",
       "    <tr>\n",
       "      <th>0</th>\n",
       "      <td>No Churn</td>\n",
       "      <td>0</td>\n",
       "      <td>14210</td>\n",
       "      <td>17950.0</td>\n",
       "      <td>30297.0</td>\n",
       "      <td>24</td>\n",
       "      <td>-0.334193</td>\n",
       "      <td>Gold</td>\n",
       "      <td>Billing Problem</td>\n",
       "      <td>6.2</td>\n",
       "      <td>0</td>\n",
       "      <td>0.0</td>\n",
       "      <td>8</td>\n",
       "      <td>1.0</td>\n",
       "      <td>0.0</td>\n",
       "    </tr>\n",
       "    <tr>\n",
       "      <th>1</th>\n",
       "      <td>Churn</td>\n",
       "      <td>1</td>\n",
       "      <td>14407</td>\n",
       "      <td>0.0</td>\n",
       "      <td>0.0</td>\n",
       "      <td>28</td>\n",
       "      <td>0.000000</td>\n",
       "      <td>Silver</td>\n",
       "      <td>Moving</td>\n",
       "      <td>1.0</td>\n",
       "      <td>0</td>\n",
       "      <td>0.0</td>\n",
       "      <td>17</td>\n",
       "      <td>1.0</td>\n",
       "      <td>0.0</td>\n",
       "    </tr>\n",
       "  </tbody>\n",
       "</table>\n",
       "</div>"
      ],
      "text/plain": [
       "  Target Churn  Target Code  Current Bill Amt  Avg Calls  Avg Calls Weekdays  \\\n",
       "0     No Churn            0             14210    17950.0             30297.0   \n",
       "1        Churn            1             14407        0.0                 0.0   \n",
       "\n",
       "   Account Age  Percent Increase MOM Acct Plan Subtype   Complaint Code  \\\n",
       "0           24             -0.334193              Gold  Billing Problem   \n",
       "1           28              0.000000            Silver           Moving   \n",
       "\n",
       "   Avg Days Delinquent  Current TechSupComplaints  \\\n",
       "0                  6.2                          0   \n",
       "1                  1.0                          0   \n",
       "\n",
       "   Current Days OpenWorkOrders  Equipment Age  Condition of Current Handset  \\\n",
       "0                          0.0              8                           1.0   \n",
       "1                          0.0             17                           1.0   \n",
       "\n",
       "   Avg Hours WorkOrderOpenned  \n",
       "0                         0.0  \n",
       "1                         0.0  "
      ]
     },
     "execution_count": 125,
     "metadata": {},
     "output_type": "execute_result"
    }
   ],
   "source": [
    "# Import the data \n",
    "\n",
    "file = \"C:\\\\Users\\\\Mohannad.dawood\\\\Desktop\\\\Data_science_Projects\\\\Churn_Data.csv\"\n",
    "data = pd.read_csv(file )\n",
    "data.head(2)"
   ]
  },
  {
   "cell_type": "code",
   "execution_count": 126,
   "metadata": {},
   "outputs": [
    {
     "data": {
      "text/plain": [
       "(4708, 15)"
      ]
     },
     "execution_count": 126,
     "metadata": {},
     "output_type": "execute_result"
    }
   ],
   "source": [
    "data.shape"
   ]
  },
  {
   "cell_type": "code",
   "execution_count": 127,
   "metadata": {},
   "outputs": [
    {
     "data": {
      "text/html": [
       "<div>\n",
       "<style scoped>\n",
       "    .dataframe tbody tr th:only-of-type {\n",
       "        vertical-align: middle;\n",
       "    }\n",
       "\n",
       "    .dataframe tbody tr th {\n",
       "        vertical-align: top;\n",
       "    }\n",
       "\n",
       "    .dataframe thead th {\n",
       "        text-align: right;\n",
       "    }\n",
       "</style>\n",
       "<table border=\"1\" class=\"dataframe\">\n",
       "  <thead>\n",
       "    <tr style=\"text-align: right;\">\n",
       "      <th></th>\n",
       "      <th>Target_Churn</th>\n",
       "      <th>Target_Code</th>\n",
       "      <th>Current_Bill_Amt</th>\n",
       "      <th>Avg_Calls</th>\n",
       "      <th>Avg_Calls_Weekdays</th>\n",
       "      <th>Account_Age</th>\n",
       "      <th>Percent_Increase_MOM</th>\n",
       "      <th>Acct_Plan_Subtype</th>\n",
       "      <th>Complaint_Code</th>\n",
       "      <th>Avg_Days_Delinquent</th>\n",
       "      <th>Current_Tech_Sup_Complaints</th>\n",
       "      <th>Current_Days_OpenWorkOrders</th>\n",
       "      <th>Equipment_Age</th>\n",
       "      <th>Condition_Current_Handset</th>\n",
       "      <th>Avg_Hours_WorkOrderOpenned</th>\n",
       "    </tr>\n",
       "  </thead>\n",
       "  <tbody>\n",
       "    <tr>\n",
       "      <th>0</th>\n",
       "      <td>No Churn</td>\n",
       "      <td>0</td>\n",
       "      <td>14210</td>\n",
       "      <td>17950.0</td>\n",
       "      <td>30297.0</td>\n",
       "      <td>24</td>\n",
       "      <td>-0.334193</td>\n",
       "      <td>Gold</td>\n",
       "      <td>Billing Problem</td>\n",
       "      <td>6.2</td>\n",
       "      <td>0</td>\n",
       "      <td>0.0</td>\n",
       "      <td>8</td>\n",
       "      <td>1.0</td>\n",
       "      <td>0.0</td>\n",
       "    </tr>\n",
       "    <tr>\n",
       "      <th>1</th>\n",
       "      <td>Churn</td>\n",
       "      <td>1</td>\n",
       "      <td>14407</td>\n",
       "      <td>0.0</td>\n",
       "      <td>0.0</td>\n",
       "      <td>28</td>\n",
       "      <td>0.000000</td>\n",
       "      <td>Silver</td>\n",
       "      <td>Moving</td>\n",
       "      <td>1.0</td>\n",
       "      <td>0</td>\n",
       "      <td>0.0</td>\n",
       "      <td>17</td>\n",
       "      <td>1.0</td>\n",
       "      <td>0.0</td>\n",
       "    </tr>\n",
       "  </tbody>\n",
       "</table>\n",
       "</div>"
      ],
      "text/plain": [
       "  Target_Churn  Target_Code  Current_Bill_Amt  Avg_Calls  Avg_Calls_Weekdays  \\\n",
       "0     No Churn            0             14210    17950.0             30297.0   \n",
       "1        Churn            1             14407        0.0                 0.0   \n",
       "\n",
       "   Account_Age  Percent_Increase_MOM Acct_Plan_Subtype   Complaint_Code  \\\n",
       "0           24             -0.334193              Gold  Billing Problem   \n",
       "1           28              0.000000            Silver           Moving   \n",
       "\n",
       "   Avg_Days_Delinquent  Current_Tech_Sup_Complaints  \\\n",
       "0                  6.2                            0   \n",
       "1                  1.0                            0   \n",
       "\n",
       "   Current_Days_OpenWorkOrders  Equipment_Age  Condition_Current_Handset  \\\n",
       "0                          0.0              8                        1.0   \n",
       "1                          0.0             17                        1.0   \n",
       "\n",
       "   Avg_Hours_WorkOrderOpenned  \n",
       "0                         0.0  \n",
       "1                         0.0  "
      ]
     },
     "execution_count": 127,
     "metadata": {},
     "output_type": "execute_result"
    }
   ],
   "source": [
    "# Let us replace the names of the columns \n",
    "\n",
    "data.rename  (columns={'Target Churn' : 'Target_Churn', 'Target Code' :'Target_Code'  , 'Current Bill Amt' : 'Current_Bill_Amt' , 'Avg Calls' : 'Avg_Calls',\n",
    "             'Avg Calls Weekdays' : 'Avg_Calls_Weekdays', 'Account Age' : 'Account_Age', 'Percent Increase MOM' : 'Percent_Increase_MOM', \n",
    "             'Acct Plan Subtype' : 'Acct_Plan_Subtype', 'Complaint Code' : 'Complaint_Code', 'Avg Days Delinquent' : 'Avg_Days_Delinquent' , \n",
    "             'Current TechSupComplaints' : 'Current_Tech_Sup_Complaints', 'Current Days OpenWorkOrders' : \"Current_Days_OpenWorkOrders\", \n",
    "             'Equipment Age' : 'Equipment_Age', 'Condition of Current Handset' : 'Condition_Current_Handset', \n",
    "             'Avg Hours WorkOrderOpenned' : 'Avg_Hours_WorkOrderOpenned'}, inplace=True)\n",
    "data.head(2)"
   ]
  },
  {
   "cell_type": "markdown",
   "metadata": {},
   "source": [
    "#### Let us explore our data "
   ]
  },
  {
   "cell_type": "code",
   "execution_count": 128,
   "metadata": {},
   "outputs": [
    {
     "name": "stdout",
     "output_type": "stream",
     "text": [
      "<class 'pandas.core.frame.DataFrame'>\n",
      "RangeIndex: 4708 entries, 0 to 4707\n",
      "Data columns (total 15 columns):\n",
      " #   Column                       Non-Null Count  Dtype  \n",
      "---  ------                       --------------  -----  \n",
      " 0   Target_Churn                 4708 non-null   object \n",
      " 1   Target_Code                  4708 non-null   int64  \n",
      " 2   Current_Bill_Amt             4708 non-null   int64  \n",
      " 3   Avg_Calls                    4708 non-null   float64\n",
      " 4   Avg_Calls_Weekdays           4708 non-null   float64\n",
      " 5   Account_Age                  4708 non-null   int64  \n",
      " 6   Percent_Increase_MOM         4708 non-null   float64\n",
      " 7   Acct_Plan_Subtype            4708 non-null   object \n",
      " 8   Complaint_Code               4701 non-null   object \n",
      " 9   Avg_Days_Delinquent          4708 non-null   float64\n",
      " 10  Current_Tech_Sup_Complaints  4708 non-null   int64  \n",
      " 11  Current_Days_OpenWorkOrders  4708 non-null   float64\n",
      " 12  Equipment_Age                4708 non-null   int64  \n",
      " 13  Condition_Current_Handset    4264 non-null   float64\n",
      " 14  Avg_Hours_WorkOrderOpenned   4708 non-null   float64\n",
      "dtypes: float64(7), int64(5), object(3)\n",
      "memory usage: 551.8+ KB\n"
     ]
    },
    {
     "data": {
      "text/html": [
       "<div>\n",
       "<style scoped>\n",
       "    .dataframe tbody tr th:only-of-type {\n",
       "        vertical-align: middle;\n",
       "    }\n",
       "\n",
       "    .dataframe tbody tr th {\n",
       "        vertical-align: top;\n",
       "    }\n",
       "\n",
       "    .dataframe thead th {\n",
       "        text-align: right;\n",
       "    }\n",
       "</style>\n",
       "<table border=\"1\" class=\"dataframe\">\n",
       "  <thead>\n",
       "    <tr style=\"text-align: right;\">\n",
       "      <th></th>\n",
       "      <th>Target_Code</th>\n",
       "      <th>Current_Bill_Amt</th>\n",
       "      <th>Avg_Calls</th>\n",
       "      <th>Avg_Calls_Weekdays</th>\n",
       "      <th>Account_Age</th>\n",
       "      <th>Percent_Increase_MOM</th>\n",
       "      <th>Avg_Days_Delinquent</th>\n",
       "      <th>Current_Tech_Sup_Complaints</th>\n",
       "      <th>Current_Days_OpenWorkOrders</th>\n",
       "      <th>Equipment_Age</th>\n",
       "      <th>Condition_Current_Handset</th>\n",
       "      <th>Avg_Hours_WorkOrderOpenned</th>\n",
       "    </tr>\n",
       "  </thead>\n",
       "  <tbody>\n",
       "    <tr>\n",
       "      <th>count</th>\n",
       "      <td>4708.000000</td>\n",
       "      <td>4708.000000</td>\n",
       "      <td>4708.000000</td>\n",
       "      <td>4708.000000</td>\n",
       "      <td>4708.000000</td>\n",
       "      <td>4708.000000</td>\n",
       "      <td>4708.000000</td>\n",
       "      <td>4708.000000</td>\n",
       "      <td>4708.000000</td>\n",
       "      <td>4708.000000</td>\n",
       "      <td>4264.000000</td>\n",
       "      <td>4708.000000</td>\n",
       "    </tr>\n",
       "    <tr>\n",
       "      <th>mean</th>\n",
       "      <td>0.485769</td>\n",
       "      <td>19828.815845</td>\n",
       "      <td>9269.690314</td>\n",
       "      <td>38127.994973</td>\n",
       "      <td>26.079652</td>\n",
       "      <td>-0.005127</td>\n",
       "      <td>13.968564</td>\n",
       "      <td>0.414826</td>\n",
       "      <td>2.438828</td>\n",
       "      <td>10.811810</td>\n",
       "      <td>1.019231</td>\n",
       "      <td>0.936501</td>\n",
       "    </tr>\n",
       "    <tr>\n",
       "      <th>std</th>\n",
       "      <td>0.499851</td>\n",
       "      <td>17204.510108</td>\n",
       "      <td>10437.339850</td>\n",
       "      <td>39172.244943</td>\n",
       "      <td>7.149933</td>\n",
       "      <td>4.481852</td>\n",
       "      <td>10.789062</td>\n",
       "      <td>0.954549</td>\n",
       "      <td>20.197292</td>\n",
       "      <td>8.710548</td>\n",
       "      <td>0.144021</td>\n",
       "      <td>8.926752</td>\n",
       "    </tr>\n",
       "    <tr>\n",
       "      <th>min</th>\n",
       "      <td>0.000000</td>\n",
       "      <td>-690.000000</td>\n",
       "      <td>0.000000</td>\n",
       "      <td>0.000000</td>\n",
       "      <td>15.000000</td>\n",
       "      <td>-1.000000</td>\n",
       "      <td>0.000000</td>\n",
       "      <td>0.000000</td>\n",
       "      <td>0.000000</td>\n",
       "      <td>0.000000</td>\n",
       "      <td>1.000000</td>\n",
       "      <td>0.000000</td>\n",
       "    </tr>\n",
       "    <tr>\n",
       "      <th>25%</th>\n",
       "      <td>0.000000</td>\n",
       "      <td>12288.000000</td>\n",
       "      <td>2602.250002</td>\n",
       "      <td>13031.250025</td>\n",
       "      <td>20.000000</td>\n",
       "      <td>-0.574084</td>\n",
       "      <td>6.000000</td>\n",
       "      <td>0.000000</td>\n",
       "      <td>0.000000</td>\n",
       "      <td>4.000000</td>\n",
       "      <td>1.000000</td>\n",
       "      <td>0.000000</td>\n",
       "    </tr>\n",
       "    <tr>\n",
       "      <th>50%</th>\n",
       "      <td>0.000000</td>\n",
       "      <td>15254.000000</td>\n",
       "      <td>6396.333330</td>\n",
       "      <td>26765.833350</td>\n",
       "      <td>25.000000</td>\n",
       "      <td>-0.185280</td>\n",
       "      <td>12.400000</td>\n",
       "      <td>0.000000</td>\n",
       "      <td>0.000000</td>\n",
       "      <td>9.000000</td>\n",
       "      <td>1.000000</td>\n",
       "      <td>0.000000</td>\n",
       "    </tr>\n",
       "    <tr>\n",
       "      <th>75%</th>\n",
       "      <td>1.000000</td>\n",
       "      <td>22799.000000</td>\n",
       "      <td>12250.499975</td>\n",
       "      <td>50061.416675</td>\n",
       "      <td>32.000000</td>\n",
       "      <td>0.121823</td>\n",
       "      <td>19.300000</td>\n",
       "      <td>0.000000</td>\n",
       "      <td>0.000000</td>\n",
       "      <td>17.000000</td>\n",
       "      <td>1.000000</td>\n",
       "      <td>0.000000</td>\n",
       "    </tr>\n",
       "    <tr>\n",
       "      <th>max</th>\n",
       "      <td>1.000000</td>\n",
       "      <td>325127.000000</td>\n",
       "      <td>181786.000000</td>\n",
       "      <td>374457.667000</td>\n",
       "      <td>40.000000</td>\n",
       "      <td>210.100000</td>\n",
       "      <td>126.000000</td>\n",
       "      <td>11.000000</td>\n",
       "      <td>368.000000</td>\n",
       "      <td>39.000000</td>\n",
       "      <td>3.000000</td>\n",
       "      <td>297.500000</td>\n",
       "    </tr>\n",
       "  </tbody>\n",
       "</table>\n",
       "</div>"
      ],
      "text/plain": [
       "       Target_Code  Current_Bill_Amt      Avg_Calls  Avg_Calls_Weekdays  \\\n",
       "count  4708.000000       4708.000000    4708.000000         4708.000000   \n",
       "mean      0.485769      19828.815845    9269.690314        38127.994973   \n",
       "std       0.499851      17204.510108   10437.339850        39172.244943   \n",
       "min       0.000000       -690.000000       0.000000            0.000000   \n",
       "25%       0.000000      12288.000000    2602.250002        13031.250025   \n",
       "50%       0.000000      15254.000000    6396.333330        26765.833350   \n",
       "75%       1.000000      22799.000000   12250.499975        50061.416675   \n",
       "max       1.000000     325127.000000  181786.000000       374457.667000   \n",
       "\n",
       "       Account_Age  Percent_Increase_MOM  Avg_Days_Delinquent  \\\n",
       "count  4708.000000           4708.000000          4708.000000   \n",
       "mean     26.079652             -0.005127            13.968564   \n",
       "std       7.149933              4.481852            10.789062   \n",
       "min      15.000000             -1.000000             0.000000   \n",
       "25%      20.000000             -0.574084             6.000000   \n",
       "50%      25.000000             -0.185280            12.400000   \n",
       "75%      32.000000              0.121823            19.300000   \n",
       "max      40.000000            210.100000           126.000000   \n",
       "\n",
       "       Current_Tech_Sup_Complaints  Current_Days_OpenWorkOrders  \\\n",
       "count                  4708.000000                  4708.000000   \n",
       "mean                      0.414826                     2.438828   \n",
       "std                       0.954549                    20.197292   \n",
       "min                       0.000000                     0.000000   \n",
       "25%                       0.000000                     0.000000   \n",
       "50%                       0.000000                     0.000000   \n",
       "75%                       0.000000                     0.000000   \n",
       "max                      11.000000                   368.000000   \n",
       "\n",
       "       Equipment_Age  Condition_Current_Handset  Avg_Hours_WorkOrderOpenned  \n",
       "count    4708.000000                4264.000000                 4708.000000  \n",
       "mean       10.811810                   1.019231                    0.936501  \n",
       "std         8.710548                   0.144021                    8.926752  \n",
       "min         0.000000                   1.000000                    0.000000  \n",
       "25%         4.000000                   1.000000                    0.000000  \n",
       "50%         9.000000                   1.000000                    0.000000  \n",
       "75%        17.000000                   1.000000                    0.000000  \n",
       "max        39.000000                   3.000000                  297.500000  "
      ]
     },
     "execution_count": 128,
     "metadata": {},
     "output_type": "execute_result"
    }
   ],
   "source": [
    "data.info()\n",
    "data.describe()"
   ]
  },
  {
   "cell_type": "code",
   "execution_count": 129,
   "metadata": {},
   "outputs": [
    {
     "data": {
      "text/plain": [
       "No Churn    2421\n",
       "Churn       2287\n",
       "Name: Target_Churn, dtype: int64"
      ]
     },
     "execution_count": 129,
     "metadata": {},
     "output_type": "execute_result"
    }
   ],
   "source": [
    "data['Target_Churn'].value_counts()"
   ]
  },
  {
   "cell_type": "markdown",
   "metadata": {},
   "source": [
    "- Target Churn would be the target of our model "
   ]
  },
  {
   "cell_type": "code",
   "execution_count": 130,
   "metadata": {},
   "outputs": [
    {
     "data": {
      "text/plain": [
       "Silver    3914\n",
       "Gold       794\n",
       "Name: Acct_Plan_Subtype, dtype: int64"
      ]
     },
     "execution_count": 130,
     "metadata": {},
     "output_type": "execute_result"
    }
   ],
   "source": [
    "data['Acct_Plan_Subtype'].value_counts()"
   ]
  },
  {
   "cell_type": "markdown",
   "metadata": {},
   "source": [
    "- account plan subtype are ordinaly values and will be categorized by Ordinalencode"
   ]
  },
  {
   "cell_type": "code",
   "execution_count": 131,
   "metadata": {},
   "outputs": [
    {
     "data": {
      "text/plain": [
       "Billing Problem         2908\n",
       "Call Quality            1070\n",
       "Moving                   511\n",
       "Check Account            195\n",
       "Inaccurate Sales Inf      13\n",
       "Pricing                    4\n",
       "Name: Complaint_Code, dtype: int64"
      ]
     },
     "execution_count": 131,
     "metadata": {},
     "output_type": "execute_result"
    }
   ],
   "source": [
    "data['Complaint_Code'].value_counts()"
   ]
  },
  {
   "cell_type": "markdown",
   "metadata": {},
   "source": [
    "- Complain code would be encoded by OneHotEncoder "
   ]
  },
  {
   "cell_type": "code",
   "execution_count": 132,
   "metadata": {},
   "outputs": [
    {
     "data": {
      "text/plain": [
       "False    4264\n",
       "True      444\n",
       "Name: Condition_Current_Handset, dtype: int64"
      ]
     },
     "execution_count": 132,
     "metadata": {},
     "output_type": "execute_result"
    }
   ],
   "source": [
    "# checking the missing data \n",
    "data['Condition_Current_Handset'].isna().value_counts()"
   ]
  },
  {
   "cell_type": "markdown",
   "metadata": {},
   "source": [
    "we are going to categorize the data through make column transformer "
   ]
  },
  {
   "cell_type": "code",
   "execution_count": 133,
   "metadata": {},
   "outputs": [
    {
     "data": {
      "text/plain": [
       "1.0    4186\n",
       "2.0      74\n",
       "3.0       4\n",
       "Name: Condition_Current_Handset, dtype: int64"
      ]
     },
     "execution_count": 133,
     "metadata": {},
     "output_type": "execute_result"
    }
   ],
   "source": [
    "data['Condition_Current_Handset'].value_counts()"
   ]
  },
  {
   "cell_type": "markdown",
   "metadata": {},
   "source": [
    "##### we have many choices to solve the missing data of Condition_Current_Handset:\n",
    "- remove the missing data which means neglecting 10% approximately from our data \n",
    "- remove the column which means neglicting the whole feature which I do not recommend \n",
    "- Ask a subject matter experts to find a way to fill the missing data with values ( 1 , 2 , or 3) \n",
    "\n",
    "I am going to proceed with the first choice to remove the missing data from the data , and if we discover lately that the feature is not important for our model , we are going to remove the feature "
   ]
  },
  {
   "cell_type": "code",
   "execution_count": 134,
   "metadata": {},
   "outputs": [
    {
     "data": {
      "text/plain": [
       "(4257, 15)"
      ]
     },
     "execution_count": 134,
     "metadata": {},
     "output_type": "execute_result"
    }
   ],
   "source": [
    "# delet the missing values \n",
    "\n",
    "data.dropna(inplace=True)\n",
    "data.shape"
   ]
  },
  {
   "cell_type": "code",
   "execution_count": 135,
   "metadata": {},
   "outputs": [],
   "source": [
    "data.columns\n",
    "ohe_columns = ['Complaint_Code' ]\n",
    "ord_columns = ['Acct_Plan_Subtype'] # Gold and Silver \n",
    "scale_columns = ['Current_Bill_Amt', 'Avg_Calls',\n",
    "       'Avg_Calls_Weekdays', 'Account_Age', 'Percent_Increase_MOM',\n",
    "       'Avg_Days_Delinquent','Current_Tech_Sup_Complaints', 'Current_Days_OpenWorkOrders',\n",
    "       'Equipment_Age', 'Avg_Hours_WorkOrderOpenned']"
   ]
  },
  {
   "cell_type": "markdown",
   "metadata": {},
   "source": [
    "- Explore Box plot for the data which need to be scaled to remove the outiers "
   ]
  },
  {
   "cell_type": "code",
   "execution_count": 136,
   "metadata": {},
   "outputs": [
    {
     "data": {
      "image/png": "[encoded data removed]",
      "text/plain": [
       "<Figure size 500x8000 with 1 Axes>"
      ]
     },
     "metadata": {},
     "output_type": "display_data"
    },
    {
     "data": {
      "image/png": "[encoded data removed]",
      "text/plain": [
       "<Figure size 500x8000 with 1 Axes>"
      ]
     },
     "metadata": {},
     "output_type": "display_data"
    },
    {
     "data": {
      "image/png": "[encoded data removed]",
      "text/plain": [
       "<Figure size 500x8000 with 1 Axes>"
      ]
     },
     "metadata": {},
     "output_type": "display_data"
    },
    {
     "data": {
      "image/png": "[encoded data removed]",
      "text/plain": [
       "<Figure size 500x8000 with 1 Axes>"
      ]
     },
     "metadata": {},
     "output_type": "display_data"
    },
    {
     "data": {
      "image/png": "[encoded data removed]",
      "text/plain": [
       "<Figure size 500x8000 with 1 Axes>"
      ]
     },
     "metadata": {},
     "output_type": "display_data"
    },
    {
     "data": {
      "image/png": "[encoded data removed]",
      "text/plain": [
       "<Figure size 500x8000 with 1 Axes>"
      ]
     },
     "metadata": {},
     "output_type": "display_data"
    },
    {
     "data": {
      "image/png": "[encoded data removed]",
      "text/plain": [
       "<Figure size 500x8000 with 1 Axes>"
      ]
     },
     "metadata": {},
     "output_type": "display_data"
    },
    {
     "data": {
      "image/png": "[encoded data removed]",
      "text/plain": [
       "<Figure size 500x8000 with 1 Axes>"
      ]
     },
     "metadata": {},
     "output_type": "display_data"
    },
    {
     "data": {
      "image/png": "[encoded data removed]",
      "text/plain": [
       "<Figure size 500x8000 with 1 Axes>"
      ]
     },
     "metadata": {},
     "output_type": "display_data"
    },
    {
     "data": {
      "image/png": "[encoded data removed]",
      "text/plain": [
       "<Figure size 500x8000 with 1 Axes>"
      ]
     },
     "metadata": {},
     "output_type": "display_data"
    }
   ],
   "source": [
    "\n",
    "for i,x in enumerate(scale_columns):\n",
    "    plt.figure(figsize=(5,80))\n",
    "    plt.subplot(len(scale_columns) , 1 , i+1)\n",
    "    plt.boxplot (data[x])\n",
    "    plt.title(str(x))\n",
    "    plt.show()"
   ]
  },
  {
   "cell_type": "markdown",
   "metadata": {},
   "source": [
    "- Values of data which need to be scaled have too many outliers, so we are going to discover what the lost data if we are going to remove these records "
   ]
  },
  {
   "cell_type": "code",
   "execution_count": 137,
   "metadata": {},
   "outputs": [
    {
     "name": "stdout",
     "output_type": "stream",
     "text": [
      "outlier of  Current_Bill_Amt are : 67\n",
      "outlier of  Avg_Calls are : 82\n",
      "outlier of  Avg_Calls_Weekdays are : 97\n",
      "outlier of  Account_Age are : 0\n",
      "outlier of  Percent_Increase_MOM are : 7\n",
      "outlier of  Avg_Days_Delinquent are : 48\n",
      "outlier of  Current_Tech_Sup_Complaints are : 76\n",
      "outlier of  Current_Days_OpenWorkOrders are : 47\n",
      "outlier of  Equipment_Age are : 36\n",
      "outlier of  Avg_Hours_WorkOrderOpenned are : 44\n"
     ]
    }
   ],
   "source": [
    "for feature in scale_columns:\n",
    "    upper_limit = data[feature].mean()+ 3* data[feature].std()\n",
    "    lower_limit = data[feature].mean()- 3* data[feature].std()\n",
    "    print('outlier of ',feature, 'are :' ,   data[(data[feature] > upper_limit) | ( data[feature] < lower_limit)].shape[0])"
   ]
  },
  {
   "cell_type": "markdown",
   "metadata": {},
   "source": [
    "- Since the counts of outlier are small percentage of our data, we are going to proceed with deleting them "
   ]
  },
  {
   "cell_type": "code",
   "execution_count": 138,
   "metadata": {},
   "outputs": [
    {
     "name": "stdout",
     "output_type": "stream",
     "text": [
      "data records with Outliers are :  4257\n",
      "data records without Outliers are :  4213\n"
     ]
    }
   ],
   "source": [
    "for feature in scale_columns:\n",
    "    upper_limit = data[feature].mean()+ 3* data[feature].std()\n",
    "    lower_limit = data[feature].mean()- 3* data[feature].std()\n",
    "    new_data = data[(data[feature] < upper_limit) & ( data[feature] > lower_limit)]\n",
    "print( 'data records with Outliers are : ', data.shape[0])\n",
    "print ('data records without Outliers are : ', new_data.shape[0])"
   ]
  },
  {
   "cell_type": "markdown",
   "metadata": {},
   "source": [
    "- After cleaning our data and removing the missing values and outliers \n",
    "- We are ready to scale and encode the values of training data to be prepared for our prediction model"
   ]
  },
  {
   "cell_type": "code",
   "execution_count": 139,
   "metadata": {},
   "outputs": [
    {
     "data": {
      "text/html": [
       "<div>\n",
       "<style scoped>\n",
       "    .dataframe tbody tr th:only-of-type {\n",
       "        vertical-align: middle;\n",
       "    }\n",
       "\n",
       "    .dataframe tbody tr th {\n",
       "        vertical-align: top;\n",
       "    }\n",
       "\n",
       "    .dataframe thead th {\n",
       "        text-align: right;\n",
       "    }\n",
       "</style>\n",
       "<table border=\"1\" class=\"dataframe\">\n",
       "  <thead>\n",
       "    <tr style=\"text-align: right;\">\n",
       "      <th></th>\n",
       "      <th>Target_Code</th>\n",
       "      <th>Current_Bill_Amt</th>\n",
       "      <th>Avg_Calls</th>\n",
       "      <th>Avg_Calls_Weekdays</th>\n",
       "      <th>Account_Age</th>\n",
       "      <th>Percent_Increase_MOM</th>\n",
       "      <th>Acct_Plan_Subtype</th>\n",
       "      <th>Complaint_Code</th>\n",
       "      <th>Avg_Days_Delinquent</th>\n",
       "      <th>Current_Tech_Sup_Complaints</th>\n",
       "      <th>Current_Days_OpenWorkOrders</th>\n",
       "      <th>Equipment_Age</th>\n",
       "      <th>Condition_Current_Handset</th>\n",
       "      <th>Avg_Hours_WorkOrderOpenned</th>\n",
       "    </tr>\n",
       "  </thead>\n",
       "  <tbody>\n",
       "    <tr>\n",
       "      <th>0</th>\n",
       "      <td>0</td>\n",
       "      <td>14210</td>\n",
       "      <td>17950.0</td>\n",
       "      <td>30297.0</td>\n",
       "      <td>24</td>\n",
       "      <td>-0.334193</td>\n",
       "      <td>Gold</td>\n",
       "      <td>Billing Problem</td>\n",
       "      <td>6.2</td>\n",
       "      <td>0</td>\n",
       "      <td>0.0</td>\n",
       "      <td>8</td>\n",
       "      <td>1.0</td>\n",
       "      <td>0.0</td>\n",
       "    </tr>\n",
       "    <tr>\n",
       "      <th>1</th>\n",
       "      <td>1</td>\n",
       "      <td>14407</td>\n",
       "      <td>0.0</td>\n",
       "      <td>0.0</td>\n",
       "      <td>28</td>\n",
       "      <td>0.000000</td>\n",
       "      <td>Silver</td>\n",
       "      <td>Moving</td>\n",
       "      <td>1.0</td>\n",
       "      <td>0</td>\n",
       "      <td>0.0</td>\n",
       "      <td>17</td>\n",
       "      <td>1.0</td>\n",
       "      <td>0.0</td>\n",
       "    </tr>\n",
       "  </tbody>\n",
       "</table>\n",
       "</div>"
      ],
      "text/plain": [
       "   Target_Code  Current_Bill_Amt  Avg_Calls  Avg_Calls_Weekdays  Account_Age  \\\n",
       "0            0             14210    17950.0             30297.0           24   \n",
       "1            1             14407        0.0                 0.0           28   \n",
       "\n",
       "   Percent_Increase_MOM Acct_Plan_Subtype   Complaint_Code  \\\n",
       "0             -0.334193              Gold  Billing Problem   \n",
       "1              0.000000            Silver           Moving   \n",
       "\n",
       "   Avg_Days_Delinquent  Current_Tech_Sup_Complaints  \\\n",
       "0                  6.2                            0   \n",
       "1                  1.0                            0   \n",
       "\n",
       "   Current_Days_OpenWorkOrders  Equipment_Age  Condition_Current_Handset  \\\n",
       "0                          0.0              8                        1.0   \n",
       "1                          0.0             17                        1.0   \n",
       "\n",
       "   Avg_Hours_WorkOrderOpenned  \n",
       "0                         0.0  \n",
       "1                         0.0  "
      ]
     },
     "execution_count": 139,
     "metadata": {},
     "output_type": "execute_result"
    }
   ],
   "source": [
    "# define training and target data frame\n",
    "train_df = new_data.iloc[:,1:]\n",
    "# ['Target_Code', 'Current_Bill_Amt', 'Avg_Calls',\n",
    "#        'Avg_Calls_Weekdays', 'Account_Age', 'Percent_Increase_MOM',\n",
    "#        'Acct_Plan_Subtype', 'Complaint_Code', 'Avg_Days_Delinquent',\n",
    "#        'Current_Tech_Sup_Complaints', 'Current_Days_OpenWorkOrders',\n",
    "#        'Equipment_Age', 'Condition_Current_Handset',\n",
    "#        'Avg_Hours_WorkOrderOpenned']\n",
    "\n",
    "target_df = new_data[['Target_Churn']]\n",
    "train_df.head(2)"
   ]
  },
  {
   "cell_type": "code",
   "execution_count": 140,
   "metadata": {},
   "outputs": [
    {
     "data": {
      "text/html": [
       "<div>\n",
       "<style scoped>\n",
       "    .dataframe tbody tr th:only-of-type {\n",
       "        vertical-align: middle;\n",
       "    }\n",
       "\n",
       "    .dataframe tbody tr th {\n",
       "        vertical-align: top;\n",
       "    }\n",
       "\n",
       "    .dataframe thead th {\n",
       "        text-align: right;\n",
       "    }\n",
       "</style>\n",
       "<table border=\"1\" class=\"dataframe\">\n",
       "  <thead>\n",
       "    <tr style=\"text-align: right;\">\n",
       "      <th></th>\n",
       "      <th>onehotencoder__Complaint_Code_Billing Problem</th>\n",
       "      <th>onehotencoder__Complaint_Code_Call Quality</th>\n",
       "      <th>onehotencoder__Complaint_Code_Check Account</th>\n",
       "      <th>onehotencoder__Complaint_Code_Inaccurate Sales Inf</th>\n",
       "      <th>onehotencoder__Complaint_Code_Moving</th>\n",
       "      <th>onehotencoder__Complaint_Code_Pricing</th>\n",
       "      <th>ordinalencoder__Acct_Plan_Subtype</th>\n",
       "      <th>standardscaler__Current_Bill_Amt</th>\n",
       "      <th>standardscaler__Avg_Calls</th>\n",
       "      <th>standardscaler__Avg_Calls_Weekdays</th>\n",
       "      <th>standardscaler__Account_Age</th>\n",
       "      <th>standardscaler__Percent_Increase_MOM</th>\n",
       "      <th>standardscaler__Avg_Days_Delinquent</th>\n",
       "      <th>standardscaler__Current_Tech_Sup_Complaints</th>\n",
       "      <th>standardscaler__Current_Days_OpenWorkOrders</th>\n",
       "      <th>standardscaler__Equipment_Age</th>\n",
       "      <th>standardscaler__Avg_Hours_WorkOrderOpenned</th>\n",
       "      <th>remainder__Target_Code</th>\n",
       "      <th>remainder__Condition_Current_Handset</th>\n",
       "    </tr>\n",
       "  </thead>\n",
       "  <tbody>\n",
       "    <tr>\n",
       "      <th>0</th>\n",
       "      <td>1.0</td>\n",
       "      <td>0.0</td>\n",
       "      <td>0.0</td>\n",
       "      <td>0.0</td>\n",
       "      <td>0.0</td>\n",
       "      <td>0.0</td>\n",
       "      <td>0.0</td>\n",
       "      <td>-0.327466</td>\n",
       "      <td>0.809480</td>\n",
       "      <td>-0.211558</td>\n",
       "      <td>-0.324823</td>\n",
       "      <td>-0.07491</td>\n",
       "      <td>-0.721828</td>\n",
       "      <td>-0.427004</td>\n",
       "      <td>-0.125094</td>\n",
       "      <td>-0.470833</td>\n",
       "      <td>-0.107117</td>\n",
       "      <td>0</td>\n",
       "      <td>1.0</td>\n",
       "    </tr>\n",
       "    <tr>\n",
       "      <th>1</th>\n",
       "      <td>0.0</td>\n",
       "      <td>0.0</td>\n",
       "      <td>0.0</td>\n",
       "      <td>0.0</td>\n",
       "      <td>1.0</td>\n",
       "      <td>0.0</td>\n",
       "      <td>1.0</td>\n",
       "      <td>-0.316149</td>\n",
       "      <td>-0.884976</td>\n",
       "      <td>-0.971191</td>\n",
       "      <td>0.234425</td>\n",
       "      <td>-0.00425</td>\n",
       "      <td>-1.199708</td>\n",
       "      <td>-0.427004</td>\n",
       "      <td>-0.125094</td>\n",
       "      <td>0.599915</td>\n",
       "      <td>-0.107117</td>\n",
       "      <td>1</td>\n",
       "      <td>1.0</td>\n",
       "    </tr>\n",
       "  </tbody>\n",
       "</table>\n",
       "</div>"
      ],
      "text/plain": [
       "   onehotencoder__Complaint_Code_Billing Problem  \\\n",
       "0                                            1.0   \n",
       "1                                            0.0   \n",
       "\n",
       "   onehotencoder__Complaint_Code_Call Quality  \\\n",
       "0                                         0.0   \n",
       "1                                         0.0   \n",
       "\n",
       "   onehotencoder__Complaint_Code_Check Account  \\\n",
       "0                                          0.0   \n",
       "1                                          0.0   \n",
       "\n",
       "   onehotencoder__Complaint_Code_Inaccurate Sales Inf  \\\n",
       "0                                                0.0    \n",
       "1                                                0.0    \n",
       "\n",
       "   onehotencoder__Complaint_Code_Moving  \\\n",
       "0                                   0.0   \n",
       "1                                   1.0   \n",
       "\n",
       "   onehotencoder__Complaint_Code_Pricing  ordinalencoder__Acct_Plan_Subtype  \\\n",
       "0                                    0.0                                0.0   \n",
       "1                                    0.0                                1.0   \n",
       "\n",
       "   standardscaler__Current_Bill_Amt  standardscaler__Avg_Calls  \\\n",
       "0                         -0.327466                   0.809480   \n",
       "1                         -0.316149                  -0.884976   \n",
       "\n",
       "   standardscaler__Avg_Calls_Weekdays  standardscaler__Account_Age  \\\n",
       "0                           -0.211558                    -0.324823   \n",
       "1                           -0.971191                     0.234425   \n",
       "\n",
       "   standardscaler__Percent_Increase_MOM  standardscaler__Avg_Days_Delinquent  \\\n",
       "0                              -0.07491                            -0.721828   \n",
       "1                              -0.00425                            -1.199708   \n",
       "\n",
       "   standardscaler__Current_Tech_Sup_Complaints  \\\n",
       "0                                    -0.427004   \n",
       "1                                    -0.427004   \n",
       "\n",
       "   standardscaler__Current_Days_OpenWorkOrders  standardscaler__Equipment_Age  \\\n",
       "0                                    -0.125094                      -0.470833   \n",
       "1                                    -0.125094                       0.599915   \n",
       "\n",
       "   standardscaler__Avg_Hours_WorkOrderOpenned  remainder__Target_Code  \\\n",
       "0                                   -0.107117                       0   \n",
       "1                                   -0.107117                       1   \n",
       "\n",
       "   remainder__Condition_Current_Handset  \n",
       "0                                   1.0  \n",
       "1                                   1.0  "
      ]
     },
     "execution_count": 140,
     "metadata": {},
     "output_type": "execute_result"
    }
   ],
   "source": [
    "ohe = OneHotEncoder(sparse_output=False)\n",
    "ord=OrdinalEncoder ()\n",
    "scaler = StandardScaler()\n",
    "target_new= ord.fit_transform(target_df)\n",
    "col = make_column_transformer(\n",
    "                                ( ohe , ohe_columns), \n",
    "                                ( ord , ord_columns ) ,\n",
    "                                ( scaler , scale_columns),\n",
    "                                 remainder='passthrough').set_output(transform='pandas')\n",
    "train_new = col.fit_transform(train_df)\n",
    "train_new.head(2)"
   ]
  },
  {
   "cell_type": "markdown",
   "metadata": {},
   "source": [
    "- "
   ]
  },
  {
   "cell_type": "code",
   "execution_count": 141,
   "metadata": {},
   "outputs": [
    {
     "data": {
      "text/plain": [
       "array([1., 1., 1., 1., 1., 1., 1., 1., 1., 1.])"
      ]
     },
     "execution_count": 141,
     "metadata": {},
     "output_type": "execute_result"
    }
   ],
   "source": [
    "warnings.filterwarnings('ignore')\n",
    "lr=LogisticRegression()\n",
    "random = RandomForestClassifier(n_estimators=100,random_state=1, criterion='gini')\n",
    "cross = cross_val_score (random, train_new, target_new , cv=10, scoring= 'accuracy')\n",
    "cross"
   ]
  },
  {
   "cell_type": "code",
   "execution_count": 143,
   "metadata": {},
   "outputs": [
    {
     "data": {
      "text/plain": [
       "array([[914,   0],\n",
       "       [  0, 799]], dtype=int64)"
      ]
     },
     "execution_count": 143,
     "metadata": {},
     "output_type": "execute_result"
    }
   ],
   "source": [
    "x_train = train_new[:2500]\n",
    "y_train = target_new[0:2500]\n",
    "x_test = train_new[2500:]\n",
    "y_test = target_new[2500:]\n",
    "lr.fit(x_train,y_train)\n",
    "prediction = lr.predict(x_test)\n",
    "score = confusion_matrix(prediction , y_test)\n",
    "score\n"
   ]
  },
  {
   "cell_type": "code",
   "execution_count": 147,
   "metadata": {},
   "outputs": [
    {
     "data": {
      "text/plain": [
       "Target_Code                        1.000000\n",
       "Current_Bill_Amt               20184.792326\n",
       "Avg_Calls                       9410.960512\n",
       "Avg_Calls_Weekdays             37865.139728\n",
       "Account_Age                       25.591367\n",
       "Percent_Increase_MOM              -0.265381\n",
       "Avg_Days_Delinquent               19.209832\n",
       "Current_Tech_Sup_Complaints        0.464748\n",
       "Current_Days_OpenWorkOrders        2.741007\n",
       "Equipment_Age                     12.255156\n",
       "Condition_Current_Handset          1.018225\n",
       "Avg_Hours_WorkOrderOpenned         0.921242\n",
       "dtype: float64"
      ]
     },
     "execution_count": 147,
     "metadata": {},
     "output_type": "execute_result"
    }
   ],
   "source": [
    "data[data['Target_Churn']=='Churn'].mean()"
   ]
  },
  {
   "cell_type": "code",
   "execution_count": null,
   "metadata": {},
   "outputs": [],
   "source": []
  }
 ],
 "metadata": {
  "kernelspec": {
   "display_name": "Python 3",
   "language": "python",
   "name": "python3"
  },
  "language_info": {
   "codemirror_mode": {
    "name": "ipython",
    "version": 3
   },
   "file_extension": ".py",
   "mimetype": "text/x-python",
   "name": "python",
   "nbconvert_exporter": "python",
   "pygments_lexer": "ipython3",
   "version": "3.10.9"
  }
 },
 "nbformat": 4,
 "nbformat_minor": 2
}
